{
 "cells": [
  {
   "cell_type": "markdown",
   "metadata": {},
   "source": [
    "# Machine Learning 101 in Python\n",
    "### Led by Matteo Hessel, UCL ML Alumni, currently a Research Engineer at Google DeepMind\n",
    "\n",
    "\n",
    "# Preparation\n",
    "\n",
    "## Why Python?\n",
    "If you want to be a Data Scientist and apply machine learning, regardless of the application domain you will encounter Python. The reasons that make it an excellent language for data science are several:\n",
    "\n",
    "First of all is a very simple language, if you know any other programming language you will learn it very fast.\n",
    "\n",
    "Second, is very flexible, it offers features from imperative, scripting, object-oriented, and functional programming.\n",
    "This flexibility means that you can do very fast prototyping, because you can use it at the level of abstraction you need it, if you want to run some tests with different models you can do it with few lines of code without caring about structure and classes, and potentially do so when you want to put the selected model into production. \n",
    "If you try to do the same with Java you will have 20 classes, 5 interfaces before you can even start tackling your problem...\n",
    "\n",
    "Third, you can rely on countless libraries, developed open source by a huge community, you have:\n",
    "- NumPy, which wraps highly optimized C code, for fast matrix operations, \n",
    "- Pandas, which integrates naturally with Numpy, offers tools for data loading, formatting, and transformation, \n",
    "- NLTK offers tools for natural language processing (tokenizing, sentence splitting, parsing), all of these are trivial to implement but will take hours of boring coding if you have to do it yourself,\n",
    "- Scikit-learn, which we shall see during the workshop, integrated with Numpy and Pandas, offers many models for statistics and machine learning.\n",
    "- Finally Theano, Chainer, Tensor Flow offer neural network frameworks and easy integration of high performance computing hardware such as GPUs.\n",
    "\n",
    "### The fundamental features of Python\n",
    "- Interpreted language\n",
    "- Dynamic Typing\n",
    "- Two versions: Python2.x and Python3.x\n",
    "- Just in time compiler: PyPy\n",
    "- First class functions\n",
    "- Class system and Inheritance\n",
    "\n",
    "Remember to **indent**!\n",
    "\n",
    "\n",
    "## What is Jupyter?\n",
    "Jupyter is a multi-language open-source project which provides notebooks, web-based interactive scripting environments, for many uses. Particularly useful for data scientists. iPython is a python kernel for jupiter.\n",
    "\n",
    "Installing Jupyter:\n",
    "- Download [Anaconda Python 3.5](https://www.continuum.io/downloads)\n",
    "- Start the installer of Conda\n",
    "- Check installation typing `python` in Terminal (exit with Ctrl+D)\n",
    "Install / update Jupyter typing `conda install jupyter` in Terminal\n",
    "Run jupyter typing `jupyter notebook` in Terminal\n",
    "\n",
    "Install the packages:\n",
    "```\n",
    "conda install numpy\n",
    "conda install scipy\n",
    "conda install scikit-learn\n",
    "conda install pandas\n",
    "conda install nltk\n",
    "conda install matplotlib\n",
    "```\n",
    "\n",
    "---\n"
   ]
  },
  {
   "cell_type": "markdown",
   "metadata": {},
   "source": [
    "# Supervised Learning\n",
    "## Aims\n"
   ]
  },
  {
   "cell_type": "markdown",
   "metadata": {},
   "source": [
    "## Classification\n",
    "Practical 1: K-NN on Jupiter using Scikit Learn\n",
    "\n",
    "Practical 2: Logistic Regression on Jupiter using Scikit Learn\n"
   ]
  },
  {
   "cell_type": "code",
   "execution_count": null,
   "metadata": {
    "collapsed": true
   },
   "outputs": [],
   "source": []
  },
  {
   "cell_type": "markdown",
   "metadata": {},
   "source": [
    "## Regression\n",
    "Practical 3: Linear Regression on Jupiter using Scikit Learn\n",
    "\n",
    "Practical 4: Polynomial Regression on Jupiter using Scikit Learn"
   ]
  },
  {
   "cell_type": "code",
   "execution_count": null,
   "metadata": {
    "collapsed": true
   },
   "outputs": [],
   "source": []
  },
  {
   "cell_type": "markdown",
   "metadata": {},
   "source": [
    "## Overfitting and Generalization\n",
    "Practical 5: an experimental pipeline\n"
   ]
  },
  {
   "cell_type": "code",
   "execution_count": null,
   "metadata": {
    "collapsed": true
   },
   "outputs": [],
   "source": []
  },
  {
   "cell_type": "markdown",
   "metadata": {},
   "source": [
    "## Testing: Holdout vs Cross-Validation"
   ]
  },
  {
   "cell_type": "code",
   "execution_count": null,
   "metadata": {
    "collapsed": true
   },
   "outputs": [],
   "source": []
  },
  {
   "cell_type": "markdown",
   "metadata": {},
   "source": [
    "## Other Supervised Learning Algorithms: \n",
    "RandomForests\n",
    "\n",
    "Practical 6: using RandomForests on some more complex task (e.g. my affective computing project at UCL)"
   ]
  },
  {
   "cell_type": "code",
   "execution_count": null,
   "metadata": {
    "collapsed": true
   },
   "outputs": [],
   "source": []
  }
 ],
 "metadata": {
  "kernelspec": {
   "display_name": "Python 3",
   "language": "python",
   "name": "python3"
  },
  "language_info": {
   "codemirror_mode": {
    "name": "ipython",
    "version": 3
   },
   "file_extension": ".py",
   "mimetype": "text/x-python",
   "name": "python",
   "nbconvert_exporter": "python",
   "pygments_lexer": "ipython3",
   "version": "3.5.0"
  }
 },
 "nbformat": 4,
 "nbformat_minor": 0
}
